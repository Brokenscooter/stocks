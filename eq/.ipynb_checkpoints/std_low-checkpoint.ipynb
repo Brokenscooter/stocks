{
 "cells": [
  {
   "cell_type": "code",
   "execution_count": 1,
   "metadata": {},
   "outputs": [],
   "source": [
    "import pandas\n",
    "import fetch_data, stock_names"
   ]
  },
  {
   "cell_type": "code",
   "execution_count": 2,
   "metadata": {},
   "outputs": [],
   "source": [
    "names = stock_names._string()"
   ]
  },
  {
   "cell_type": "code",
   "execution_count": 70,
   "metadata": {
    "scrolled": true
   },
   "outputs": [
    {
     "name": "stdout",
     "output_type": "stream",
     "text": [
      "[*********************100%***********************]  50 of 50 completed\n"
     ]
    }
   ],
   "source": [
    "data = eq.fetch_data._dates('AXISBANK.NS HDFC.NS', '1d', '2019-09-1', '2020-02-15')"
   ]
  },
  {
   "cell_type": "code",
   "execution_count": 63,
   "metadata": {},
   "outputs": [
    {
     "data": {
      "text/html": [
       "<div>\n",
       "<style scoped>\n",
       "    .dataframe tbody tr th:only-of-type {\n",
       "        vertical-align: middle;\n",
       "    }\n",
       "\n",
       "    .dataframe tbody tr th {\n",
       "        vertical-align: top;\n",
       "    }\n",
       "\n",
       "    .dataframe thead tr th {\n",
       "        text-align: left;\n",
       "    }\n",
       "\n",
       "    .dataframe thead tr:last-of-type th {\n",
       "        text-align: right;\n",
       "    }\n",
       "</style>\n",
       "<table border=\"1\" class=\"dataframe\">\n",
       "  <thead>\n",
       "    <tr>\n",
       "      <th></th>\n",
       "      <th colspan=\"10\" halign=\"left\">Adj Close</th>\n",
       "      <th>...</th>\n",
       "      <th colspan=\"10\" halign=\"left\">Volume</th>\n",
       "    </tr>\n",
       "    <tr>\n",
       "      <th></th>\n",
       "      <th>ADANIPORTS.NS</th>\n",
       "      <th>ASIANPAINT.NS</th>\n",
       "      <th>AXISBANK.NS</th>\n",
       "      <th>BAJAJ-AUTO.NS</th>\n",
       "      <th>BAJAJFINSV.NS</th>\n",
       "      <th>BAJFINANCE.NS</th>\n",
       "      <th>BHARTIARTL.NS</th>\n",
       "      <th>BPCL.NS</th>\n",
       "      <th>BRITANNIA.NS</th>\n",
       "      <th>CIPLA.NS</th>\n",
       "      <th>...</th>\n",
       "      <th>TATASTEEL.NS</th>\n",
       "      <th>TCS.NS</th>\n",
       "      <th>TECHM.NS</th>\n",
       "      <th>TITAN.NS</th>\n",
       "      <th>ULTRACEMCO.NS</th>\n",
       "      <th>UPL.NS</th>\n",
       "      <th>VEDL.NS</th>\n",
       "      <th>WIPRO.NS</th>\n",
       "      <th>YESBANK.NS</th>\n",
       "      <th>ZEEL.NS</th>\n",
       "    </tr>\n",
       "    <tr>\n",
       "      <th>Date</th>\n",
       "      <th></th>\n",
       "      <th></th>\n",
       "      <th></th>\n",
       "      <th></th>\n",
       "      <th></th>\n",
       "      <th></th>\n",
       "      <th></th>\n",
       "      <th></th>\n",
       "      <th></th>\n",
       "      <th></th>\n",
       "      <th></th>\n",
       "      <th></th>\n",
       "      <th></th>\n",
       "      <th></th>\n",
       "      <th></th>\n",
       "      <th></th>\n",
       "      <th></th>\n",
       "      <th></th>\n",
       "      <th></th>\n",
       "      <th></th>\n",
       "      <th></th>\n",
       "    </tr>\n",
       "  </thead>\n",
       "  <tbody>\n",
       "    <tr>\n",
       "      <th>2020-02-13</th>\n",
       "      <td>369.100006</td>\n",
       "      <td>1874.050049</td>\n",
       "      <td>747.799988</td>\n",
       "      <td>3136.399902</td>\n",
       "      <td>9717.200195</td>\n",
       "      <td>4795.350098</td>\n",
       "      <td>539.950012</td>\n",
       "      <td>469.000000</td>\n",
       "      <td>3135.199951</td>\n",
       "      <td>443.399994</td>\n",
       "      <td>...</td>\n",
       "      <td>9965163</td>\n",
       "      <td>1645848</td>\n",
       "      <td>1737964</td>\n",
       "      <td>4458625</td>\n",
       "      <td>186493</td>\n",
       "      <td>2902194</td>\n",
       "      <td>6820734</td>\n",
       "      <td>2414937</td>\n",
       "      <td>168336912</td>\n",
       "      <td>22130823</td>\n",
       "    </tr>\n",
       "    <tr>\n",
       "      <th>2020-02-14</th>\n",
       "      <td>366.850006</td>\n",
       "      <td>1877.050049</td>\n",
       "      <td>736.500000</td>\n",
       "      <td>3146.399902</td>\n",
       "      <td>9690.500000</td>\n",
       "      <td>4781.750000</td>\n",
       "      <td>565.000000</td>\n",
       "      <td>476.450012</td>\n",
       "      <td>3096.649902</td>\n",
       "      <td>447.100006</td>\n",
       "      <td>...</td>\n",
       "      <td>9479379</td>\n",
       "      <td>1499952</td>\n",
       "      <td>2142949</td>\n",
       "      <td>1415946</td>\n",
       "      <td>665312</td>\n",
       "      <td>6213075</td>\n",
       "      <td>6326751</td>\n",
       "      <td>1809644</td>\n",
       "      <td>187862494</td>\n",
       "      <td>9471068</td>\n",
       "    </tr>\n",
       "  </tbody>\n",
       "</table>\n",
       "<p>2 rows × 300 columns</p>\n",
       "</div>"
      ],
      "text/plain": [
       "               Adj Close                                          \\\n",
       "           ADANIPORTS.NS ASIANPAINT.NS AXISBANK.NS BAJAJ-AUTO.NS   \n",
       "Date                                                               \n",
       "2020-02-13    369.100006   1874.050049  747.799988   3136.399902   \n",
       "2020-02-14    366.850006   1877.050049  736.500000   3146.399902   \n",
       "\n",
       "                                                                               \\\n",
       "           BAJAJFINSV.NS BAJFINANCE.NS BHARTIARTL.NS     BPCL.NS BRITANNIA.NS   \n",
       "Date                                                                            \n",
       "2020-02-13   9717.200195   4795.350098    539.950012  469.000000  3135.199951   \n",
       "2020-02-14   9690.500000   4781.750000    565.000000  476.450012  3096.649902   \n",
       "\n",
       "                        ...       Volume                             \\\n",
       "              CIPLA.NS  ... TATASTEEL.NS   TCS.NS TECHM.NS TITAN.NS   \n",
       "Date                    ...                                           \n",
       "2020-02-13  443.399994  ...      9965163  1645848  1737964  4458625   \n",
       "2020-02-14  447.100006  ...      9479379  1499952  2142949  1415946   \n",
       "\n",
       "                                                                          \n",
       "           ULTRACEMCO.NS   UPL.NS  VEDL.NS WIPRO.NS YESBANK.NS   ZEEL.NS  \n",
       "Date                                                                      \n",
       "2020-02-13        186493  2902194  6820734  2414937  168336912  22130823  \n",
       "2020-02-14        665312  6213075  6326751  1809644  187862494   9471068  \n",
       "\n",
       "[2 rows x 300 columns]"
      ]
     },
     "execution_count": 63,
     "metadata": {},
     "output_type": "execute_result"
    }
   ],
   "source": [
    "data"
   ]
  },
  {
   "cell_type": "code",
   "execution_count": 71,
   "metadata": {
    "collapsed": true
   },
   "outputs": [
    {
     "data": {
      "text/plain": [
       "NTPC.NS             3.482994\n",
       "GAIL.NS             5.083820\n",
       "POWERGRID.NS        6.113289\n",
       "WIPRO.NS            6.335720\n",
       "VEDL.NS             6.817418\n",
       "COALINDIA.NS       10.208505\n",
       "IOC.NS             10.337385\n",
       "YESBANK.NS         10.385463\n",
       "HINDALCO.NS        10.532742\n",
       "ONGC.NS            10.760997\n",
       "ITC.NS             12.891471\n",
       "ADANIPORTS.NS      13.791077\n",
       "SUNPHARMA.NS       18.723834\n",
       "INFRATEL.NS        19.127703\n",
       "CIPLA.NS           19.804106\n",
       "M&M.NS             22.235523\n",
       "JSWSTEEL.NS        23.348564\n",
       "UPL.NS             23.701296\n",
       "TATAMOTORS.NS      25.840370\n",
       "SBIN.NS            28.499410\n",
       "AXISBANK.NS        33.883178\n",
       "ZEEL.NS            34.668314\n",
       "GRASIM.NS          38.424503\n",
       "TECHM.NS           39.054164\n",
       "BPCL.NS            44.063799\n",
       "HDFCBANK.NS        49.617161\n",
       "TATASTEEL.NS       50.452335\n",
       "INFY.NS            51.964843\n",
       "ICICIBANK.NS       52.776841\n",
       "LT.NS              61.895514\n",
       "BHARTIARTL.NS      66.690823\n",
       "TITAN.NS           68.603354\n",
       "TCS.NS             75.378825\n",
       "KOTAKBANK.NS       76.187755\n",
       "ASIANPAINT.NS      89.650945\n",
       "INDUSINDBK.NS     104.613510\n",
       "HINDUNILVR.NS     108.318262\n",
       "RELIANCE.NS       120.155713\n",
       "HEROMOTOCO.NS     129.330919\n",
       "BAJAJ-AUTO.NS     148.677658\n",
       "HDFC.NS           164.793001\n",
       "BRITANNIA.NS      167.551729\n",
       "ULTRACEMCO.NS     180.717737\n",
       "DRREDDY.NS        181.349654\n",
       "HCLTECH.NS        206.433854\n",
       "BAJFINANCE.NS     347.553659\n",
       "MARUTI.NS         412.751342\n",
       "BAJAJFINSV.NS     781.732155\n",
       "NESTLEIND.NS      981.177735\n",
       "EICHERMOT.NS     2012.272384\n",
       "dtype: float64"
      ]
     },
     "execution_count": 71,
     "metadata": {},
     "output_type": "execute_result"
    }
   ],
   "source": [
    "data['Low'].std().sort_values()"
   ]
  },
  {
   "cell_type": "code",
   "execution_count": 72,
   "metadata": {
    "collapsed": true
   },
   "outputs": [
    {
     "data": {
      "text/plain": [
       "NTPC.NS             3.836438\n",
       "WIPRO.NS            5.971674\n",
       "GAIL.NS             6.163183\n",
       "POWERGRID.NS        6.357476\n",
       "VEDL.NS             7.194987\n",
       "HINDALCO.NS         9.488806\n",
       "COALINDIA.NS       10.023613\n",
       "ONGC.NS            11.121700\n",
       "IOC.NS             11.519385\n",
       "YESBANK.NS         12.640823\n",
       "ITC.NS             13.948335\n",
       "CIPLA.NS           15.533885\n",
       "INFRATEL.NS        15.991985\n",
       "ADANIPORTS.NS      17.095830\n",
       "UPL.NS             18.184847\n",
       "SUNPHARMA.NS       19.576774\n",
       "JSWSTEEL.NS        22.880657\n",
       "SBIN.NS            25.078346\n",
       "TATAMOTORS.NS      25.695409\n",
       "M&M.NS             26.924914\n",
       "AXISBANK.NS        27.391081\n",
       "GRASIM.NS          32.360934\n",
       "TECHM.NS           35.992227\n",
       "ZEEL.NS            37.678866\n",
       "BPCL.NS            38.360104\n",
       "INFY.NS            45.072831\n",
       "ICICIBANK.NS       50.246453\n",
       "TATASTEEL.NS       50.514976\n",
       "TCS.NS             64.963613\n",
       "BHARTIARTL.NS      67.238883\n",
       "LT.NS              70.026751\n",
       "KOTAKBANK.NS       72.022943\n",
       "TITAN.NS           74.887313\n",
       "ASIANPAINT.NS      78.240118\n",
       "INDUSINDBK.NS     100.201959\n",
       "HINDUNILVR.NS     110.249782\n",
       "RELIANCE.NS       118.422556\n",
       "BAJAJ-AUTO.NS     132.926791\n",
       "HDFC.NS           162.143188\n",
       "HEROMOTOCO.NS     175.960732\n",
       "DRREDDY.NS        185.706926\n",
       "ULTRACEMCO.NS     190.482923\n",
       "BRITANNIA.NS      190.754615\n",
       "HCLTECH.NS        268.475765\n",
       "HDFCBANK.NS       281.343029\n",
       "BAJFINANCE.NS     327.854360\n",
       "MARUTI.NS         339.102883\n",
       "BAJAJFINSV.NS     762.972454\n",
       "NESTLEIND.NS      994.546930\n",
       "EICHERMOT.NS     1907.536827\n",
       "dtype: float64"
      ]
     },
     "execution_count": 72,
     "metadata": {},
     "output_type": "execute_result"
    }
   ],
   "source": [
    "data['High'].std().sort_values()"
   ]
  },
  {
   "cell_type": "code",
   "execution_count": null,
   "metadata": {},
   "outputs": [],
   "source": []
  }
 ],
 "metadata": {
  "kernelspec": {
   "display_name": "Python 3",
   "language": "python",
   "name": "python3"
  },
  "language_info": {
   "codemirror_mode": {
    "name": "ipython",
    "version": 3
   },
   "file_extension": ".py",
   "mimetype": "text/x-python",
   "name": "python",
   "nbconvert_exporter": "python",
   "pygments_lexer": "ipython3",
   "version": "3.6.5"
  }
 },
 "nbformat": 4,
 "nbformat_minor": 2
}
